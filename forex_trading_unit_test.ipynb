{
 "cells": [
  {
   "cell_type": "code",
   "execution_count": 1,
   "metadata": {},
   "outputs": [
    {
     "name": "stdout",
     "output_type": "stream",
     "text": [
      "initial done:\n",
      "observation_list:['open', 'high', 'low', 'close', 'minute', 'hour', 'day', 'macd', 'boll_ub', 'boll_lb', 'rsi_30', 'dx_30', 'close_30_sma', 'close_60_sma']\n",
      " assets:['GBPUSD']\n",
      " time serial: 2017-01-02 01:00:00 -> 2017-01-06 23:55:00 length: 1428\n"
     ]
    }
   ],
   "source": [
    "import pandas as pd\n",
    "from TradingGym.envs.forex_trading import tgym\n",
    "file = \"./data/split/GBPUSD/weekly/GBPUSD_2017_0.csv\"\n",
    "df = pd.read_csv(file)\n",
    "env = tgym(df,env_config_file='./data/config/gdbusd-test-1.json' )"
   ]
  },
  {
   "cell_type": "code",
   "execution_count": 3,
   "metadata": {},
   "outputs": [],
   "source": [
    "env.reset()\n",
    "for _ in range(100):\n",
    "    env.render(mode='graph')\n",
    "    action = env.action_space.sample()\n",
    "    env.step(action) # take a random action\n",
    "env.close()"
   ]
  },
  {
   "cell_type": "code",
   "execution_count": 3,
   "metadata": {},
   "outputs": [
    {
     "name": "stdout",
     "output_type": "stream",
     "text": [
      " Volume in drive C is System\n",
      " Volume Serial Number is DE5D-7AB0\n",
      "\n",
      " Directory of c:\\github\\TradingGym\n",
      "\n",
      "23/10/2021  08:00 AM    <DIR>          .\n",
      "23/10/2021  08:00 AM    <DIR>          ..\n",
      "18/10/2021  02:21 PM             1,954 .gitignore\n",
      "22/10/2021  01:23 PM    <DIR>          .ipynb_checkpoints\n",
      "04/10/2021  02:35 PM    <DIR>          .vscode\n",
      "18/10/2021  02:21 PM    <DIR>          backup\n",
      "18/10/2021  02:21 PM    <DIR>          bs3\n",
      "21/09/2021  11:51 AM               273 CONTRIBUTING.md\n",
      "23/10/2021  07:02 AM    <DIR>          data\n",
      "21/09/2021  01:05 PM               349 env.sh\n",
      "23/10/2021  08:00 AM    <DIR>          environments\n",
      "23/10/2021  08:12 AM            10,062 forex_trading_unit_test.ipynb\n",
      "10/09/2021  06:24 PM               173 lazypush.sh\n",
      "21/09/2021  11:51 AM             1,125 LICENSE\n",
      "23/10/2021  08:01 AM            12,988 multiply-agent-training.ipynb\n",
      "23/10/2021  08:01 AM           179,784 ppo_test.ipynb\n",
      "23/10/2021  05:47 AM             3,056 README.md\n",
      "18/10/2021  02:22 PM                86 requirements.txt\n",
      "18/10/2021  02:24 PM               670 setup.py\n",
      "04/10/2021  06:04 PM             2,417 stable_baseline3.md\n",
      "23/10/2021  08:01 AM           249,670 test_pad.ipynb\n",
      "17/10/2021  02:16 PM    <DIR>          tvenv\n",
      "23/10/2021  06:40 AM    <DIR>          unit_test\n",
      "23/10/2021  08:01 AM             1,393 Untitled.ipynb\n",
      "18/10/2021  03:13 PM    <DIR>          util\n",
      "19/10/2021  09:29 AM                15 VERSION\n",
      "21/09/2021  11:51 AM                27 _config.yml\n",
      "18/10/2021  03:10 PM               361 __init__.py\n",
      "21/10/2021  10:06 AM    <DIR>          __pycache__\n",
      "              17 File(s)        464,403 bytes\n",
      "              12 Dir(s)  306,417,614,848 bytes free\n"
     ]
    }
   ],
   "source": [
    "!dir"
   ]
  }
 ],
 "metadata": {
  "interpreter": {
   "hash": "b5cbf5f3919493e81ecc3b85d0c032848d05d998b2f24661b916bdd5d1cc3a5e"
  },
  "kernelspec": {
   "display_name": "Python 3.8.6rc1 64-bit ('tvenv': venv)",
   "name": "python3"
  },
  "language_info": {
   "codemirror_mode": {
    "name": "ipython",
    "version": 3
   },
   "file_extension": ".py",
   "mimetype": "text/x-python",
   "name": "python",
   "nbconvert_exporter": "python",
   "pygments_lexer": "ipython3",
   "version": "3.8.6"
  },
  "orig_nbformat": 4
 },
 "nbformat": 4,
 "nbformat_minor": 2
}
